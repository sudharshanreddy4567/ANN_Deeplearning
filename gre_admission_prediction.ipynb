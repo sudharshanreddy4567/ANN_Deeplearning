{
  "metadata": {
    "kernelspec": {
      "language": "python",
      "display_name": "Python 3",
      "name": "python3"
    },
    "language_info": {
      "name": "python",
      "version": "3.7.12",
      "mimetype": "text/x-python",
      "codemirror_mode": {
        "name": "ipython",
        "version": 3
      },
      "pygments_lexer": "ipython3",
      "nbconvert_exporter": "python",
      "file_extension": ".py"
    },
    "kaggle": {
      "accelerator": "none",
      "dataSources": [
        {
          "sourceId": 228180,
          "sourceType": "datasetVersion",
          "datasetId": 14872
        }
      ],
      "dockerImageVersionId": 30170,
      "isInternetEnabled": false,
      "language": "python",
      "sourceType": "notebook",
      "isGpuEnabled": false
    },
    "colab": {
      "name": "gre-admission-prediction",
      "provenance": [],
      "include_colab_link": true
    }
  },
  "nbformat_minor": 0,
  "nbformat": 4,
  "cells": [
    {
      "cell_type": "markdown",
      "metadata": {
        "id": "view-in-github",
        "colab_type": "text"
      },
      "source": [
        "<a href=\"https://colab.research.google.com/github/sudharshanreddy4567/ANN_Deeplearning/blob/main/gre_admission_prediction.ipynb\" target=\"_parent\"><img src=\"https://colab.research.google.com/assets/colab-badge.svg\" alt=\"Open In Colab\"/></a>"
      ]
    },
    {
      "source": [
        "# IMPORTANT: RUN THIS CELL IN ORDER TO IMPORT YOUR KAGGLE DATA SOURCES,\n",
        "# THEN FEEL FREE TO DELETE THIS CELL.\n",
        "# NOTE: THIS NOTEBOOK ENVIRONMENT DIFFERS FROM KAGGLE'S PYTHON\n",
        "# ENVIRONMENT SO THERE MAY BE MISSING LIBRARIES USED BY YOUR\n",
        "# NOTEBOOK.\n",
        "import kagglehub\n",
        "mohansacharya_graduate_admissions_path = kagglehub.dataset_download('mohansacharya/graduate-admissions')\n",
        "\n",
        "print('Data source import complete.')\n"
      ],
      "metadata": {
        "id": "A_I53-FLwTNn"
      },
      "cell_type": "code",
      "outputs": [],
      "execution_count": null
    },
    {
      "cell_type": "code",
      "source": [
        "# This Python 3 environment comes with many helpful analytics libraries installed\n",
        "# It is defined by the kaggle/python Docker image: https://github.com/kaggle/docker-python\n",
        "# For example, here's several helpful packages to load\n",
        "\n",
        "import numpy as np # linear algebra\n",
        "import pandas as pd # data processing, CSV file I/O (e.g. pd.read_csv)\n",
        "\n",
        "# Input data files are available in the read-only \"../input/\" directory\n",
        "# For example, running this (by clicking run or pressing Shift+Enter) will list all files under the input directory\n",
        "\n",
        "import os\n",
        "for dirname, _, filenames in os.walk('/kaggle/input'):\n",
        "    for filename in filenames:\n",
        "        print(os.path.join(dirname, filename))\n",
        "\n",
        "# You can write up to 20GB to the current directory (/kaggle/working/) that gets preserved as output when you create a version using \"Save & Run All\"\n",
        "# You can also write temporary files to /kaggle/temp/, but they won't be saved outside of the current session"
      ],
      "metadata": {
        "_uuid": "8f2839f25d086af736a60e9eeb907d3b93b6e0e5",
        "_cell_guid": "b1076dfc-b9ad-4769-8c92-a6c4dae69d19",
        "execution": {
          "iopub.status.busy": "2025-03-15T07:30:12.351488Z",
          "iopub.execute_input": "2025-03-15T07:30:12.351884Z",
          "iopub.status.idle": "2025-03-15T07:30:12.364967Z",
          "shell.execute_reply.started": "2025-03-15T07:30:12.351837Z",
          "shell.execute_reply": "2025-03-15T07:30:12.363614Z"
        },
        "trusted": true,
        "id": "T3x8cC-hwTNs",
        "outputId": "1907f5ec-8d49-451b-b933-16a2958866d3"
      },
      "outputs": [
        {
          "name": "stdout",
          "text": "/kaggle/input/graduate-admissions/Admission_Predict.csv\n/kaggle/input/graduate-admissions/Admission_Predict_Ver1.1.csv\n",
          "output_type": "stream"
        }
      ],
      "execution_count": null
    },
    {
      "cell_type": "code",
      "source": [
        "df = pd.read_csv('/kaggle/input/graduate-admissions/Admission_Predict_Ver1.1.csv')"
      ],
      "metadata": {
        "execution": {
          "iopub.status.busy": "2025-03-15T07:30:23.211794Z",
          "iopub.execute_input": "2025-03-15T07:30:23.212105Z",
          "iopub.status.idle": "2025-03-15T07:30:23.233275Z",
          "shell.execute_reply.started": "2025-03-15T07:30:23.212075Z",
          "shell.execute_reply": "2025-03-15T07:30:23.232237Z"
        },
        "trusted": true,
        "id": "_ikWBg5QwTNt"
      },
      "outputs": [],
      "execution_count": null
    },
    {
      "cell_type": "code",
      "source": [
        "df.head()"
      ],
      "metadata": {
        "execution": {
          "iopub.status.busy": "2025-03-15T07:30:25.339726Z",
          "iopub.execute_input": "2025-03-15T07:30:25.340086Z",
          "iopub.status.idle": "2025-03-15T07:30:25.365218Z",
          "shell.execute_reply.started": "2025-03-15T07:30:25.34005Z",
          "shell.execute_reply": "2025-03-15T07:30:25.364113Z"
        },
        "trusted": true,
        "id": "nqOhWy4rwTNv",
        "outputId": "b2ab41f2-ed8a-440b-c967-e692f6ac6a26"
      },
      "outputs": [
        {
          "execution_count": 4,
          "output_type": "execute_result",
          "data": {
            "text/plain": "   Serial No.  GRE Score  TOEFL Score  University Rating  SOP  LOR   CGPA  \\\n0           1        337          118                  4  4.5   4.5  9.65   \n1           2        324          107                  4  4.0   4.5  8.87   \n2           3        316          104                  3  3.0   3.5  8.00   \n3           4        322          110                  3  3.5   2.5  8.67   \n4           5        314          103                  2  2.0   3.0  8.21   \n\n   Research  Chance of Admit   \n0         1              0.92  \n1         1              0.76  \n2         1              0.72  \n3         1              0.80  \n4         0              0.65  ",
            "text/html": "<div>\n<style scoped>\n    .dataframe tbody tr th:only-of-type {\n        vertical-align: middle;\n    }\n\n    .dataframe tbody tr th {\n        vertical-align: top;\n    }\n\n    .dataframe thead th {\n        text-align: right;\n    }\n</style>\n<table border=\"1\" class=\"dataframe\">\n  <thead>\n    <tr style=\"text-align: right;\">\n      <th></th>\n      <th>Serial No.</th>\n      <th>GRE Score</th>\n      <th>TOEFL Score</th>\n      <th>University Rating</th>\n      <th>SOP</th>\n      <th>LOR</th>\n      <th>CGPA</th>\n      <th>Research</th>\n      <th>Chance of Admit</th>\n    </tr>\n  </thead>\n  <tbody>\n    <tr>\n      <th>0</th>\n      <td>1</td>\n      <td>337</td>\n      <td>118</td>\n      <td>4</td>\n      <td>4.5</td>\n      <td>4.5</td>\n      <td>9.65</td>\n      <td>1</td>\n      <td>0.92</td>\n    </tr>\n    <tr>\n      <th>1</th>\n      <td>2</td>\n      <td>324</td>\n      <td>107</td>\n      <td>4</td>\n      <td>4.0</td>\n      <td>4.5</td>\n      <td>8.87</td>\n      <td>1</td>\n      <td>0.76</td>\n    </tr>\n    <tr>\n      <th>2</th>\n      <td>3</td>\n      <td>316</td>\n      <td>104</td>\n      <td>3</td>\n      <td>3.0</td>\n      <td>3.5</td>\n      <td>8.00</td>\n      <td>1</td>\n      <td>0.72</td>\n    </tr>\n    <tr>\n      <th>3</th>\n      <td>4</td>\n      <td>322</td>\n      <td>110</td>\n      <td>3</td>\n      <td>3.5</td>\n      <td>2.5</td>\n      <td>8.67</td>\n      <td>1</td>\n      <td>0.80</td>\n    </tr>\n    <tr>\n      <th>4</th>\n      <td>5</td>\n      <td>314</td>\n      <td>103</td>\n      <td>2</td>\n      <td>2.0</td>\n      <td>3.0</td>\n      <td>8.21</td>\n      <td>0</td>\n      <td>0.65</td>\n    </tr>\n  </tbody>\n</table>\n</div>"
          },
          "metadata": {}
        }
      ],
      "execution_count": null
    },
    {
      "cell_type": "code",
      "source": [
        "df.shape"
      ],
      "metadata": {
        "execution": {
          "iopub.status.busy": "2025-03-15T07:30:30.098287Z",
          "iopub.execute_input": "2025-03-15T07:30:30.098651Z",
          "iopub.status.idle": "2025-03-15T07:30:30.10654Z",
          "shell.execute_reply.started": "2025-03-15T07:30:30.098616Z",
          "shell.execute_reply": "2025-03-15T07:30:30.105305Z"
        },
        "trusted": true,
        "id": "rGfoaWNIwTNw",
        "outputId": "a0d337d3-8981-47fd-897f-e146d0d24dd1"
      },
      "outputs": [
        {
          "execution_count": 5,
          "output_type": "execute_result",
          "data": {
            "text/plain": "(500, 9)"
          },
          "metadata": {}
        }
      ],
      "execution_count": null
    },
    {
      "cell_type": "code",
      "source": [
        "df.info()"
      ],
      "metadata": {
        "execution": {
          "iopub.status.busy": "2025-03-15T07:30:50.575883Z",
          "iopub.execute_input": "2025-03-15T07:30:50.576269Z",
          "iopub.status.idle": "2025-03-15T07:30:50.606802Z",
          "shell.execute_reply.started": "2025-03-15T07:30:50.57623Z",
          "shell.execute_reply": "2025-03-15T07:30:50.605672Z"
        },
        "trusted": true,
        "id": "7R86zvWJwTNy",
        "outputId": "8a7481e3-63f3-407d-80e7-4401838a6e76"
      },
      "outputs": [
        {
          "name": "stdout",
          "text": "<class 'pandas.core.frame.DataFrame'>\nRangeIndex: 500 entries, 0 to 499\nData columns (total 9 columns):\n #   Column             Non-Null Count  Dtype  \n---  ------             --------------  -----  \n 0   Serial No.         500 non-null    int64  \n 1   GRE Score          500 non-null    int64  \n 2   TOEFL Score        500 non-null    int64  \n 3   University Rating  500 non-null    int64  \n 4   SOP                500 non-null    float64\n 5   LOR                500 non-null    float64\n 6   CGPA               500 non-null    float64\n 7   Research           500 non-null    int64  \n 8   Chance of Admit    500 non-null    float64\ndtypes: float64(4), int64(5)\nmemory usage: 35.3 KB\n",
          "output_type": "stream"
        }
      ],
      "execution_count": null
    },
    {
      "cell_type": "code",
      "source": [
        "df.duplicated().sum()"
      ],
      "metadata": {
        "execution": {
          "iopub.status.busy": "2025-03-15T07:39:27.976735Z",
          "iopub.execute_input": "2025-03-15T07:39:27.977719Z",
          "iopub.status.idle": "2025-03-15T07:39:27.987573Z",
          "shell.execute_reply.started": "2025-03-15T07:39:27.977643Z",
          "shell.execute_reply": "2025-03-15T07:39:27.986661Z"
        },
        "trusted": true,
        "id": "H6guf47VwTNy",
        "outputId": "63b9b026-afe4-4126-df90-3dd0dc7df372"
      },
      "outputs": [
        {
          "execution_count": 9,
          "output_type": "execute_result",
          "data": {
            "text/plain": "0"
          },
          "metadata": {}
        }
      ],
      "execution_count": null
    },
    {
      "cell_type": "code",
      "source": [
        "df.drop(columns=['Serial No.'],inplace=True)"
      ],
      "metadata": {
        "execution": {
          "iopub.status.busy": "2025-03-15T07:39:32.851775Z",
          "iopub.execute_input": "2025-03-15T07:39:32.852522Z",
          "iopub.status.idle": "2025-03-15T07:39:32.858746Z",
          "shell.execute_reply.started": "2025-03-15T07:39:32.852481Z",
          "shell.execute_reply": "2025-03-15T07:39:32.85756Z"
        },
        "trusted": true,
        "id": "N-VDSYXYwTNz"
      },
      "outputs": [],
      "execution_count": null
    },
    {
      "cell_type": "code",
      "source": [
        "df.head()"
      ],
      "metadata": {
        "execution": {
          "iopub.status.busy": "2022-03-11T05:18:20.78127Z",
          "iopub.execute_input": "2022-03-11T05:18:20.781776Z",
          "iopub.status.idle": "2022-03-11T05:18:20.809417Z",
          "shell.execute_reply.started": "2022-03-11T05:18:20.781721Z",
          "shell.execute_reply": "2022-03-11T05:18:20.808715Z"
        },
        "trusted": true,
        "id": "A8o6jMIawTN0"
      },
      "outputs": [],
      "execution_count": null
    },
    {
      "cell_type": "code",
      "source": [
        "X = df.iloc[:,0:-1]\n",
        "y = df.iloc[:,-1]"
      ],
      "metadata": {
        "execution": {
          "iopub.status.busy": "2025-03-15T07:39:41.05037Z",
          "iopub.execute_input": "2025-03-15T07:39:41.050674Z",
          "iopub.status.idle": "2025-03-15T07:39:41.056583Z",
          "shell.execute_reply.started": "2025-03-15T07:39:41.050642Z",
          "shell.execute_reply": "2025-03-15T07:39:41.055508Z"
        },
        "trusted": true,
        "id": "Nqm60VdiwTN1"
      },
      "outputs": [],
      "execution_count": null
    },
    {
      "cell_type": "code",
      "source": [
        "X"
      ],
      "metadata": {
        "execution": {
          "iopub.status.busy": "2025-03-15T07:39:42.39492Z",
          "iopub.execute_input": "2025-03-15T07:39:42.395908Z",
          "iopub.status.idle": "2025-03-15T07:39:42.415211Z",
          "shell.execute_reply.started": "2025-03-15T07:39:42.395861Z",
          "shell.execute_reply": "2025-03-15T07:39:42.414051Z"
        },
        "trusted": true,
        "id": "fKUYpFKwwTN1",
        "outputId": "49d4ada5-aa6a-41a8-fbec-5cc77c24e719"
      },
      "outputs": [
        {
          "execution_count": 13,
          "output_type": "execute_result",
          "data": {
            "text/plain": "     GRE Score  TOEFL Score  University Rating  SOP  LOR   CGPA  Research\n0          337          118                  4  4.5   4.5  9.65         1\n1          324          107                  4  4.0   4.5  8.87         1\n2          316          104                  3  3.0   3.5  8.00         1\n3          322          110                  3  3.5   2.5  8.67         1\n4          314          103                  2  2.0   3.0  8.21         0\n..         ...          ...                ...  ...   ...   ...       ...\n495        332          108                  5  4.5   4.0  9.02         1\n496        337          117                  5  5.0   5.0  9.87         1\n497        330          120                  5  4.5   5.0  9.56         1\n498        312          103                  4  4.0   5.0  8.43         0\n499        327          113                  4  4.5   4.5  9.04         0\n\n[500 rows x 7 columns]",
            "text/html": "<div>\n<style scoped>\n    .dataframe tbody tr th:only-of-type {\n        vertical-align: middle;\n    }\n\n    .dataframe tbody tr th {\n        vertical-align: top;\n    }\n\n    .dataframe thead th {\n        text-align: right;\n    }\n</style>\n<table border=\"1\" class=\"dataframe\">\n  <thead>\n    <tr style=\"text-align: right;\">\n      <th></th>\n      <th>GRE Score</th>\n      <th>TOEFL Score</th>\n      <th>University Rating</th>\n      <th>SOP</th>\n      <th>LOR</th>\n      <th>CGPA</th>\n      <th>Research</th>\n    </tr>\n  </thead>\n  <tbody>\n    <tr>\n      <th>0</th>\n      <td>337</td>\n      <td>118</td>\n      <td>4</td>\n      <td>4.5</td>\n      <td>4.5</td>\n      <td>9.65</td>\n      <td>1</td>\n    </tr>\n    <tr>\n      <th>1</th>\n      <td>324</td>\n      <td>107</td>\n      <td>4</td>\n      <td>4.0</td>\n      <td>4.5</td>\n      <td>8.87</td>\n      <td>1</td>\n    </tr>\n    <tr>\n      <th>2</th>\n      <td>316</td>\n      <td>104</td>\n      <td>3</td>\n      <td>3.0</td>\n      <td>3.5</td>\n      <td>8.00</td>\n      <td>1</td>\n    </tr>\n    <tr>\n      <th>3</th>\n      <td>322</td>\n      <td>110</td>\n      <td>3</td>\n      <td>3.5</td>\n      <td>2.5</td>\n      <td>8.67</td>\n      <td>1</td>\n    </tr>\n    <tr>\n      <th>4</th>\n      <td>314</td>\n      <td>103</td>\n      <td>2</td>\n      <td>2.0</td>\n      <td>3.0</td>\n      <td>8.21</td>\n      <td>0</td>\n    </tr>\n    <tr>\n      <th>...</th>\n      <td>...</td>\n      <td>...</td>\n      <td>...</td>\n      <td>...</td>\n      <td>...</td>\n      <td>...</td>\n      <td>...</td>\n    </tr>\n    <tr>\n      <th>495</th>\n      <td>332</td>\n      <td>108</td>\n      <td>5</td>\n      <td>4.5</td>\n      <td>4.0</td>\n      <td>9.02</td>\n      <td>1</td>\n    </tr>\n    <tr>\n      <th>496</th>\n      <td>337</td>\n      <td>117</td>\n      <td>5</td>\n      <td>5.0</td>\n      <td>5.0</td>\n      <td>9.87</td>\n      <td>1</td>\n    </tr>\n    <tr>\n      <th>497</th>\n      <td>330</td>\n      <td>120</td>\n      <td>5</td>\n      <td>4.5</td>\n      <td>5.0</td>\n      <td>9.56</td>\n      <td>1</td>\n    </tr>\n    <tr>\n      <th>498</th>\n      <td>312</td>\n      <td>103</td>\n      <td>4</td>\n      <td>4.0</td>\n      <td>5.0</td>\n      <td>8.43</td>\n      <td>0</td>\n    </tr>\n    <tr>\n      <th>499</th>\n      <td>327</td>\n      <td>113</td>\n      <td>4</td>\n      <td>4.5</td>\n      <td>4.5</td>\n      <td>9.04</td>\n      <td>0</td>\n    </tr>\n  </tbody>\n</table>\n<p>500 rows × 7 columns</p>\n</div>"
          },
          "metadata": {}
        }
      ],
      "execution_count": null
    },
    {
      "cell_type": "code",
      "source": [
        "y"
      ],
      "metadata": {
        "execution": {
          "iopub.status.busy": "2025-03-15T07:39:45.575168Z",
          "iopub.execute_input": "2025-03-15T07:39:45.575919Z",
          "iopub.status.idle": "2025-03-15T07:39:45.585471Z",
          "shell.execute_reply.started": "2025-03-15T07:39:45.575874Z",
          "shell.execute_reply": "2025-03-15T07:39:45.58427Z"
        },
        "trusted": true,
        "id": "X0vY8ZtowTN2",
        "outputId": "41739c4a-c824-4b68-cbad-c72be812103e"
      },
      "outputs": [
        {
          "execution_count": 14,
          "output_type": "execute_result",
          "data": {
            "text/plain": "0      0.92\n1      0.76\n2      0.72\n3      0.80\n4      0.65\n       ... \n495    0.87\n496    0.96\n497    0.93\n498    0.73\n499    0.84\nName: Chance of Admit , Length: 500, dtype: float64"
          },
          "metadata": {}
        }
      ],
      "execution_count": null
    },
    {
      "cell_type": "code",
      "source": [
        "from sklearn.model_selection import train_test_split\n",
        "X_train,X_test,y_train,y_test = train_test_split(X,y,test_size=0.2,random_state=1)"
      ],
      "metadata": {
        "execution": {
          "iopub.status.busy": "2025-03-15T07:39:48.922153Z",
          "iopub.execute_input": "2025-03-15T07:39:48.922542Z",
          "iopub.status.idle": "2025-03-15T07:39:50.171994Z",
          "shell.execute_reply.started": "2025-03-15T07:39:48.922502Z",
          "shell.execute_reply": "2025-03-15T07:39:50.171009Z"
        },
        "trusted": true,
        "id": "2CG2l-QQwTN2"
      },
      "outputs": [],
      "execution_count": null
    },
    {
      "cell_type": "code",
      "source": [
        "X_train"
      ],
      "metadata": {
        "execution": {
          "iopub.status.busy": "2025-03-15T07:39:51.967013Z",
          "iopub.execute_input": "2025-03-15T07:39:51.967436Z",
          "iopub.status.idle": "2025-03-15T07:39:51.991178Z",
          "shell.execute_reply.started": "2025-03-15T07:39:51.967397Z",
          "shell.execute_reply": "2025-03-15T07:39:51.990025Z"
        },
        "trusted": true,
        "id": "4S2n-MwFwTN2",
        "outputId": "0f1380fc-2bfa-4f83-8302-aea457982774"
      },
      "outputs": [
        {
          "execution_count": 16,
          "output_type": "execute_result",
          "data": {
            "text/plain": "     GRE Score  TOEFL Score  University Rating  SOP  LOR   CGPA  Research\n238        310          104                  3  2.0   3.5  8.37         0\n438        318          110                  1  2.5   3.5  8.54         1\n475        300          101                  3  3.5   2.5  7.88         0\n58         300           99                  1  3.0   2.0  6.80         1\n380        322          104                  3  3.5   4.0  8.84         1\n..         ...          ...                ...  ...   ...   ...       ...\n255        307          110                  4  4.0   4.5  8.37         0\n72         321          111                  5  5.0   5.0  9.45         1\n396        325          107                  3  3.0   3.5  9.11         1\n235        326          111                  5  4.5   4.0  9.23         1\n37         300          105                  1  1.0   2.0  7.80         0\n\n[400 rows x 7 columns]",
            "text/html": "<div>\n<style scoped>\n    .dataframe tbody tr th:only-of-type {\n        vertical-align: middle;\n    }\n\n    .dataframe tbody tr th {\n        vertical-align: top;\n    }\n\n    .dataframe thead th {\n        text-align: right;\n    }\n</style>\n<table border=\"1\" class=\"dataframe\">\n  <thead>\n    <tr style=\"text-align: right;\">\n      <th></th>\n      <th>GRE Score</th>\n      <th>TOEFL Score</th>\n      <th>University Rating</th>\n      <th>SOP</th>\n      <th>LOR</th>\n      <th>CGPA</th>\n      <th>Research</th>\n    </tr>\n  </thead>\n  <tbody>\n    <tr>\n      <th>238</th>\n      <td>310</td>\n      <td>104</td>\n      <td>3</td>\n      <td>2.0</td>\n      <td>3.5</td>\n      <td>8.37</td>\n      <td>0</td>\n    </tr>\n    <tr>\n      <th>438</th>\n      <td>318</td>\n      <td>110</td>\n      <td>1</td>\n      <td>2.5</td>\n      <td>3.5</td>\n      <td>8.54</td>\n      <td>1</td>\n    </tr>\n    <tr>\n      <th>475</th>\n      <td>300</td>\n      <td>101</td>\n      <td>3</td>\n      <td>3.5</td>\n      <td>2.5</td>\n      <td>7.88</td>\n      <td>0</td>\n    </tr>\n    <tr>\n      <th>58</th>\n      <td>300</td>\n      <td>99</td>\n      <td>1</td>\n      <td>3.0</td>\n      <td>2.0</td>\n      <td>6.80</td>\n      <td>1</td>\n    </tr>\n    <tr>\n      <th>380</th>\n      <td>322</td>\n      <td>104</td>\n      <td>3</td>\n      <td>3.5</td>\n      <td>4.0</td>\n      <td>8.84</td>\n      <td>1</td>\n    </tr>\n    <tr>\n      <th>...</th>\n      <td>...</td>\n      <td>...</td>\n      <td>...</td>\n      <td>...</td>\n      <td>...</td>\n      <td>...</td>\n      <td>...</td>\n    </tr>\n    <tr>\n      <th>255</th>\n      <td>307</td>\n      <td>110</td>\n      <td>4</td>\n      <td>4.0</td>\n      <td>4.5</td>\n      <td>8.37</td>\n      <td>0</td>\n    </tr>\n    <tr>\n      <th>72</th>\n      <td>321</td>\n      <td>111</td>\n      <td>5</td>\n      <td>5.0</td>\n      <td>5.0</td>\n      <td>9.45</td>\n      <td>1</td>\n    </tr>\n    <tr>\n      <th>396</th>\n      <td>325</td>\n      <td>107</td>\n      <td>3</td>\n      <td>3.0</td>\n      <td>3.5</td>\n      <td>9.11</td>\n      <td>1</td>\n    </tr>\n    <tr>\n      <th>235</th>\n      <td>326</td>\n      <td>111</td>\n      <td>5</td>\n      <td>4.5</td>\n      <td>4.0</td>\n      <td>9.23</td>\n      <td>1</td>\n    </tr>\n    <tr>\n      <th>37</th>\n      <td>300</td>\n      <td>105</td>\n      <td>1</td>\n      <td>1.0</td>\n      <td>2.0</td>\n      <td>7.80</td>\n      <td>0</td>\n    </tr>\n  </tbody>\n</table>\n<p>400 rows × 7 columns</p>\n</div>"
          },
          "metadata": {}
        }
      ],
      "execution_count": null
    },
    {
      "cell_type": "code",
      "source": [
        "from sklearn.preprocessing import MinMaxScaler\n",
        "scaler = MinMaxScaler()\n",
        "\n",
        "X_train_scaled = scaler.fit_transform(X_train)\n",
        "X_test_scaled = scaler.transform(X_test)"
      ],
      "metadata": {
        "execution": {
          "iopub.status.busy": "2025-03-15T07:39:55.471111Z",
          "iopub.execute_input": "2025-03-15T07:39:55.471417Z",
          "iopub.status.idle": "2025-03-15T07:39:55.483447Z",
          "shell.execute_reply.started": "2025-03-15T07:39:55.471387Z",
          "shell.execute_reply": "2025-03-15T07:39:55.482353Z"
        },
        "trusted": true,
        "id": "OoO2hCkPwTN3"
      },
      "outputs": [],
      "execution_count": null
    },
    {
      "cell_type": "code",
      "source": [
        "X_train_scaled"
      ],
      "metadata": {
        "execution": {
          "iopub.status.busy": "2025-03-15T07:39:58.776532Z",
          "iopub.execute_input": "2025-03-15T07:39:58.776929Z",
          "iopub.status.idle": "2025-03-15T07:39:58.785155Z",
          "shell.execute_reply.started": "2025-03-15T07:39:58.77689Z",
          "shell.execute_reply": "2025-03-15T07:39:58.78414Z"
        },
        "trusted": true,
        "id": "gFbRM7a2wTN3",
        "outputId": "a92f6b0b-a219-4b76-a7bb-3aa964f33601"
      },
      "outputs": [
        {
          "execution_count": 18,
          "output_type": "execute_result",
          "data": {
            "text/plain": "array([[0.4       , 0.42857143, 0.5       , ..., 0.57142857, 0.50320513,\n        0.        ],\n       [0.56      , 0.64285714, 0.        , ..., 0.57142857, 0.55769231,\n        1.        ],\n       [0.2       , 0.32142857, 0.5       , ..., 0.28571429, 0.34615385,\n        0.        ],\n       ...,\n       [0.7       , 0.53571429, 0.5       , ..., 0.57142857, 0.74038462,\n        1.        ],\n       [0.72      , 0.67857143, 1.        , ..., 0.71428571, 0.77884615,\n        1.        ],\n       [0.2       , 0.46428571, 0.        , ..., 0.14285714, 0.32051282,\n        0.        ]])"
          },
          "metadata": {}
        }
      ],
      "execution_count": null
    },
    {
      "cell_type": "code",
      "source": [
        "import tensorflow\n",
        "from tensorflow import keras\n",
        "from keras import Sequential\n",
        "from keras.layers import Dense"
      ],
      "metadata": {
        "execution": {
          "iopub.status.busy": "2025-03-15T07:40:01.071312Z",
          "iopub.execute_input": "2025-03-15T07:40:01.071717Z",
          "iopub.status.idle": "2025-03-15T07:40:08.024688Z",
          "shell.execute_reply.started": "2025-03-15T07:40:01.071658Z",
          "shell.execute_reply": "2025-03-15T07:40:08.023675Z"
        },
        "trusted": true,
        "id": "r3guQCxqwTN3"
      },
      "outputs": [],
      "execution_count": null
    },
    {
      "cell_type": "code",
      "source": [
        "model = Sequential()\n",
        "\n",
        "model.add(Dense(7,activation='relu',input_dim=7))\n",
        "model.add(Dense(7,activation='relu'))\n",
        "model.add(Dense(1,activation='linear'))"
      ],
      "metadata": {
        "execution": {
          "iopub.status.busy": "2025-03-15T07:40:40.092351Z",
          "iopub.execute_input": "2025-03-15T07:40:40.092759Z",
          "iopub.status.idle": "2025-03-15T07:40:40.214722Z",
          "shell.execute_reply.started": "2025-03-15T07:40:40.092717Z",
          "shell.execute_reply": "2025-03-15T07:40:40.21378Z"
        },
        "trusted": true,
        "id": "waVrz7PTwTN4"
      },
      "outputs": [],
      "execution_count": null
    },
    {
      "cell_type": "code",
      "source": [
        "model.summary()"
      ],
      "metadata": {
        "execution": {
          "iopub.status.busy": "2025-03-15T07:40:41.578584Z",
          "iopub.execute_input": "2025-03-15T07:40:41.578914Z",
          "iopub.status.idle": "2025-03-15T07:40:41.588309Z",
          "shell.execute_reply.started": "2025-03-15T07:40:41.57888Z",
          "shell.execute_reply": "2025-03-15T07:40:41.587136Z"
        },
        "trusted": true,
        "id": "ab2cMqrdwTN4",
        "outputId": "6bbac317-09e3-4de5-f432-e60ab9ae095d"
      },
      "outputs": [
        {
          "name": "stdout",
          "text": "Model: \"sequential\"\n_________________________________________________________________\nLayer (type)                 Output Shape              Param #   \n=================================================================\ndense (Dense)                (None, 7)                 56        \n_________________________________________________________________\ndense_1 (Dense)              (None, 7)                 56        \n_________________________________________________________________\ndense_2 (Dense)              (None, 1)                 8         \n=================================================================\nTotal params: 120\nTrainable params: 120\nNon-trainable params: 0\n_________________________________________________________________\n",
          "output_type": "stream"
        }
      ],
      "execution_count": null
    },
    {
      "cell_type": "code",
      "source": [
        "model.compile(loss='mean_squared_error',optimizer='Adam')"
      ],
      "metadata": {
        "execution": {
          "iopub.status.busy": "2025-03-15T07:41:12.659784Z",
          "iopub.execute_input": "2025-03-15T07:41:12.660199Z",
          "iopub.status.idle": "2025-03-15T07:41:12.671911Z",
          "shell.execute_reply.started": "2025-03-15T07:41:12.660143Z",
          "shell.execute_reply": "2025-03-15T07:41:12.670732Z"
        },
        "trusted": true,
        "id": "yko-wn4MwTN4"
      },
      "outputs": [],
      "execution_count": null
    },
    {
      "cell_type": "code",
      "source": [
        "history = model.fit(X_train_scaled,y_train,epochs=100,validation_split=0.2)"
      ],
      "metadata": {
        "execution": {
          "iopub.status.busy": "2025-03-15T07:41:15.752595Z",
          "iopub.execute_input": "2025-03-15T07:41:15.752972Z",
          "iopub.status.idle": "2025-03-15T07:41:23.037965Z",
          "shell.execute_reply.started": "2025-03-15T07:41:15.752937Z",
          "shell.execute_reply": "2025-03-15T07:41:23.037052Z"
        },
        "trusted": true,
        "id": "6nkq94_YwTN4",
        "outputId": "81003ba8-887d-4437-f76a-540d5b113faa"
      },
      "outputs": [
        {
          "name": "stdout",
          "text": "Epoch 1/100\n10/10 [==============================] - 1s 25ms/step - loss: 0.4174 - val_loss: 0.4093\nEpoch 2/100\n10/10 [==============================] - 0s 7ms/step - loss: 0.3442 - val_loss: 0.3324\nEpoch 3/100\n10/10 [==============================] - 0s 7ms/step - loss: 0.2727 - val_loss: 0.2592\nEpoch 4/100\n10/10 [==============================] - 0s 7ms/step - loss: 0.2073 - val_loss: 0.1943\nEpoch 5/100\n10/10 [==============================] - 0s 7ms/step - loss: 0.1513 - val_loss: 0.1375\nEpoch 6/100\n10/10 [==============================] - 0s 8ms/step - loss: 0.1035 - val_loss: 0.0914\nEpoch 7/100\n10/10 [==============================] - 0s 7ms/step - loss: 0.0664 - val_loss: 0.0560\nEpoch 8/100\n10/10 [==============================] - 0s 7ms/step - loss: 0.0398 - val_loss: 0.0329\nEpoch 9/100\n10/10 [==============================] - 0s 7ms/step - loss: 0.0232 - val_loss: 0.0193\nEpoch 10/100\n10/10 [==============================] - 0s 7ms/step - loss: 0.0149 - val_loss: 0.0133\nEpoch 11/100\n10/10 [==============================] - 0s 7ms/step - loss: 0.0118 - val_loss: 0.0116\nEpoch 12/100\n10/10 [==============================] - 0s 7ms/step - loss: 0.0111 - val_loss: 0.0112\nEpoch 13/100\n10/10 [==============================] - 0s 7ms/step - loss: 0.0108 - val_loss: 0.0109\nEpoch 14/100\n10/10 [==============================] - 0s 6ms/step - loss: 0.0106 - val_loss: 0.0106\nEpoch 15/100\n10/10 [==============================] - 0s 6ms/step - loss: 0.0103 - val_loss: 0.0104\nEpoch 16/100\n10/10 [==============================] - 0s 6ms/step - loss: 0.0100 - val_loss: 0.0102\nEpoch 17/100\n10/10 [==============================] - 0s 6ms/step - loss: 0.0098 - val_loss: 0.0100\nEpoch 18/100\n10/10 [==============================] - 0s 7ms/step - loss: 0.0096 - val_loss: 0.0098\nEpoch 19/100\n10/10 [==============================] - 0s 7ms/step - loss: 0.0094 - val_loss: 0.0095\nEpoch 20/100\n10/10 [==============================] - 0s 6ms/step - loss: 0.0092 - val_loss: 0.0093\nEpoch 21/100\n10/10 [==============================] - 0s 7ms/step - loss: 0.0090 - val_loss: 0.0091\nEpoch 22/100\n10/10 [==============================] - 0s 7ms/step - loss: 0.0088 - val_loss: 0.0089\nEpoch 23/100\n10/10 [==============================] - 0s 7ms/step - loss: 0.0086 - val_loss: 0.0086\nEpoch 24/100\n10/10 [==============================] - 0s 7ms/step - loss: 0.0084 - val_loss: 0.0084\nEpoch 25/100\n10/10 [==============================] - 0s 7ms/step - loss: 0.0082 - val_loss: 0.0082\nEpoch 26/100\n10/10 [==============================] - 0s 7ms/step - loss: 0.0080 - val_loss: 0.0080\nEpoch 27/100\n10/10 [==============================] - 0s 6ms/step - loss: 0.0079 - val_loss: 0.0079\nEpoch 28/100\n10/10 [==============================] - 0s 7ms/step - loss: 0.0077 - val_loss: 0.0078\nEpoch 29/100\n10/10 [==============================] - 0s 7ms/step - loss: 0.0076 - val_loss: 0.0076\nEpoch 30/100\n10/10 [==============================] - 0s 7ms/step - loss: 0.0075 - val_loss: 0.0075\nEpoch 31/100\n10/10 [==============================] - 0s 7ms/step - loss: 0.0074 - val_loss: 0.0074\nEpoch 32/100\n10/10 [==============================] - 0s 6ms/step - loss: 0.0072 - val_loss: 0.0073\nEpoch 33/100\n10/10 [==============================] - 0s 7ms/step - loss: 0.0071 - val_loss: 0.0072\nEpoch 34/100\n10/10 [==============================] - 0s 7ms/step - loss: 0.0070 - val_loss: 0.0071\nEpoch 35/100\n10/10 [==============================] - 0s 7ms/step - loss: 0.0069 - val_loss: 0.0070\nEpoch 36/100\n10/10 [==============================] - 0s 7ms/step - loss: 0.0069 - val_loss: 0.0069\nEpoch 37/100\n10/10 [==============================] - 0s 7ms/step - loss: 0.0067 - val_loss: 0.0069\nEpoch 38/100\n10/10 [==============================] - 0s 6ms/step - loss: 0.0067 - val_loss: 0.0069\nEpoch 39/100\n10/10 [==============================] - 0s 7ms/step - loss: 0.0066 - val_loss: 0.0067\nEpoch 40/100\n10/10 [==============================] - 0s 6ms/step - loss: 0.0065 - val_loss: 0.0067\nEpoch 41/100\n10/10 [==============================] - 0s 6ms/step - loss: 0.0065 - val_loss: 0.0066\nEpoch 42/100\n10/10 [==============================] - 0s 6ms/step - loss: 0.0064 - val_loss: 0.0066\nEpoch 43/100\n10/10 [==============================] - 0s 6ms/step - loss: 0.0063 - val_loss: 0.0064\nEpoch 44/100\n10/10 [==============================] - 0s 6ms/step - loss: 0.0063 - val_loss: 0.0064\nEpoch 45/100\n10/10 [==============================] - 0s 6ms/step - loss: 0.0062 - val_loss: 0.0063\nEpoch 46/100\n10/10 [==============================] - 0s 7ms/step - loss: 0.0061 - val_loss: 0.0062\nEpoch 47/100\n10/10 [==============================] - 0s 6ms/step - loss: 0.0061 - val_loss: 0.0062\nEpoch 48/100\n10/10 [==============================] - 0s 8ms/step - loss: 0.0061 - val_loss: 0.0060\nEpoch 49/100\n10/10 [==============================] - 0s 7ms/step - loss: 0.0060 - val_loss: 0.0061\nEpoch 50/100\n10/10 [==============================] - 0s 6ms/step - loss: 0.0059 - val_loss: 0.0060\nEpoch 51/100\n10/10 [==============================] - 0s 6ms/step - loss: 0.0059 - val_loss: 0.0059\nEpoch 52/100\n10/10 [==============================] - 0s 7ms/step - loss: 0.0059 - val_loss: 0.0059\nEpoch 53/100\n10/10 [==============================] - 0s 7ms/step - loss: 0.0058 - val_loss: 0.0058\nEpoch 54/100\n10/10 [==============================] - 0s 6ms/step - loss: 0.0058 - val_loss: 0.0058\nEpoch 55/100\n10/10 [==============================] - 0s 7ms/step - loss: 0.0057 - val_loss: 0.0058\nEpoch 56/100\n10/10 [==============================] - 0s 6ms/step - loss: 0.0057 - val_loss: 0.0057\nEpoch 57/100\n10/10 [==============================] - 0s 6ms/step - loss: 0.0057 - val_loss: 0.0056\nEpoch 58/100\n10/10 [==============================] - 0s 6ms/step - loss: 0.0056 - val_loss: 0.0056\nEpoch 59/100\n10/10 [==============================] - 0s 6ms/step - loss: 0.0056 - val_loss: 0.0056\nEpoch 60/100\n10/10 [==============================] - 0s 6ms/step - loss: 0.0056 - val_loss: 0.0056\nEpoch 61/100\n10/10 [==============================] - 0s 6ms/step - loss: 0.0055 - val_loss: 0.0055\nEpoch 62/100\n10/10 [==============================] - 0s 6ms/step - loss: 0.0055 - val_loss: 0.0055\nEpoch 63/100\n10/10 [==============================] - 0s 6ms/step - loss: 0.0055 - val_loss: 0.0054\nEpoch 64/100\n10/10 [==============================] - 0s 6ms/step - loss: 0.0055 - val_loss: 0.0055\nEpoch 65/100\n10/10 [==============================] - 0s 6ms/step - loss: 0.0055 - val_loss: 0.0055\nEpoch 66/100\n10/10 [==============================] - 0s 6ms/step - loss: 0.0054 - val_loss: 0.0053\nEpoch 67/100\n10/10 [==============================] - 0s 6ms/step - loss: 0.0054 - val_loss: 0.0054\nEpoch 68/100\n10/10 [==============================] - 0s 6ms/step - loss: 0.0054 - val_loss: 0.0053\nEpoch 69/100\n10/10 [==============================] - 0s 6ms/step - loss: 0.0054 - val_loss: 0.0053\nEpoch 70/100\n10/10 [==============================] - 0s 6ms/step - loss: 0.0053 - val_loss: 0.0053\nEpoch 71/100\n10/10 [==============================] - 0s 6ms/step - loss: 0.0053 - val_loss: 0.0053\nEpoch 72/100\n10/10 [==============================] - 0s 6ms/step - loss: 0.0053 - val_loss: 0.0053\nEpoch 73/100\n10/10 [==============================] - 0s 7ms/step - loss: 0.0053 - val_loss: 0.0051\nEpoch 74/100\n10/10 [==============================] - 0s 7ms/step - loss: 0.0053 - val_loss: 0.0052\nEpoch 75/100\n10/10 [==============================] - 0s 6ms/step - loss: 0.0052 - val_loss: 0.0052\nEpoch 76/100\n10/10 [==============================] - 0s 6ms/step - loss: 0.0052 - val_loss: 0.0051\nEpoch 77/100\n10/10 [==============================] - 0s 6ms/step - loss: 0.0052 - val_loss: 0.0051\nEpoch 78/100\n10/10 [==============================] - 0s 6ms/step - loss: 0.0052 - val_loss: 0.0051\nEpoch 79/100\n10/10 [==============================] - 0s 6ms/step - loss: 0.0052 - val_loss: 0.0050\nEpoch 80/100\n10/10 [==============================] - 0s 6ms/step - loss: 0.0052 - val_loss: 0.0051\nEpoch 81/100\n10/10 [==============================] - 0s 6ms/step - loss: 0.0052 - val_loss: 0.0050\nEpoch 82/100\n10/10 [==============================] - 0s 6ms/step - loss: 0.0051 - val_loss: 0.0050\nEpoch 83/100\n10/10 [==============================] - 0s 6ms/step - loss: 0.0051 - val_loss: 0.0050\nEpoch 84/100\n10/10 [==============================] - 0s 6ms/step - loss: 0.0051 - val_loss: 0.0050\nEpoch 85/100\n10/10 [==============================] - 0s 7ms/step - loss: 0.0051 - val_loss: 0.0050\nEpoch 86/100\n10/10 [==============================] - 0s 6ms/step - loss: 0.0051 - val_loss: 0.0049\nEpoch 87/100\n10/10 [==============================] - 0s 7ms/step - loss: 0.0051 - val_loss: 0.0049\nEpoch 88/100\n10/10 [==============================] - 0s 7ms/step - loss: 0.0050 - val_loss: 0.0049\nEpoch 89/100\n10/10 [==============================] - 0s 6ms/step - loss: 0.0050 - val_loss: 0.0049\nEpoch 90/100\n10/10 [==============================] - 0s 6ms/step - loss: 0.0050 - val_loss: 0.0049\nEpoch 91/100\n10/10 [==============================] - 0s 6ms/step - loss: 0.0050 - val_loss: 0.0048\nEpoch 92/100\n10/10 [==============================] - 0s 7ms/step - loss: 0.0050 - val_loss: 0.0049\nEpoch 93/100\n10/10 [==============================] - 0s 6ms/step - loss: 0.0050 - val_loss: 0.0048\nEpoch 94/100\n10/10 [==============================] - 0s 6ms/step - loss: 0.0050 - val_loss: 0.0048\nEpoch 95/100\n10/10 [==============================] - 0s 6ms/step - loss: 0.0049 - val_loss: 0.0049\nEpoch 96/100\n10/10 [==============================] - 0s 6ms/step - loss: 0.0049 - val_loss: 0.0048\nEpoch 97/100\n10/10 [==============================] - 0s 6ms/step - loss: 0.0049 - val_loss: 0.0048\nEpoch 98/100\n10/10 [==============================] - 0s 6ms/step - loss: 0.0050 - val_loss: 0.0048\nEpoch 99/100\n10/10 [==============================] - 0s 6ms/step - loss: 0.0049 - val_loss: 0.0048\nEpoch 100/100\n10/10 [==============================] - 0s 6ms/step - loss: 0.0049 - val_loss: 0.0048\n",
          "output_type": "stream"
        }
      ],
      "execution_count": null
    },
    {
      "cell_type": "code",
      "source": [
        "y_pred = model.predict(X_test_scaled)"
      ],
      "metadata": {
        "execution": {
          "iopub.status.busy": "2025-03-15T07:42:01.146348Z",
          "iopub.execute_input": "2025-03-15T07:42:01.146774Z",
          "iopub.status.idle": "2025-03-15T07:42:01.218534Z",
          "shell.execute_reply.started": "2025-03-15T07:42:01.146735Z",
          "shell.execute_reply": "2025-03-15T07:42:01.217342Z"
        },
        "trusted": true,
        "id": "4higqvcqwTN5"
      },
      "outputs": [],
      "execution_count": null
    },
    {
      "cell_type": "code",
      "source": [
        "from sklearn.metrics import r2_score\n",
        "r2_score(y_test,y_pred)"
      ],
      "metadata": {
        "execution": {
          "iopub.status.busy": "2025-03-15T07:42:03.637136Z",
          "iopub.execute_input": "2025-03-15T07:42:03.637482Z",
          "iopub.status.idle": "2025-03-15T07:42:03.646325Z",
          "shell.execute_reply.started": "2025-03-15T07:42:03.637448Z",
          "shell.execute_reply": "2025-03-15T07:42:03.645181Z"
        },
        "trusted": true,
        "id": "RCsrVY55wTN5",
        "outputId": "f1873f89-66ea-44a8-bc62-ca6220fdf512"
      },
      "outputs": [
        {
          "execution_count": 28,
          "output_type": "execute_result",
          "data": {
            "text/plain": "0.7489316322707466"
          },
          "metadata": {}
        }
      ],
      "execution_count": null
    },
    {
      "cell_type": "code",
      "source": [
        "import matplotlib.pyplot as plt\n",
        "plt.plot(history.history['loss'])\n",
        "plt.plot(history.history['val_loss'])"
      ],
      "metadata": {
        "execution": {
          "iopub.status.busy": "2025-03-15T07:42:05.973215Z",
          "iopub.execute_input": "2025-03-15T07:42:05.974048Z",
          "iopub.status.idle": "2025-03-15T07:42:06.240966Z",
          "shell.execute_reply.started": "2025-03-15T07:42:05.974007Z",
          "shell.execute_reply": "2025-03-15T07:42:06.239971Z"
        },
        "trusted": true,
        "id": "jyIGWLapwTN5",
        "outputId": "52253245-b6ef-454e-f129-d16e3953770e"
      },
      "outputs": [
        {
          "execution_count": 29,
          "output_type": "execute_result",
          "data": {
            "text/plain": "[<matplotlib.lines.Line2D at 0x7d519ce513d0>]"
          },
          "metadata": {}
        },
        {
          "output_type": "display_data",
          "data": {
            "text/plain": "<Figure size 432x288 with 1 Axes>",
            "image/png": "[encoded data removed]"
          },
          "metadata": {
            "needs_background": "light"
          }
        }
      ],
      "execution_count": null
    },
    {
      "cell_type": "code",
      "source": [],
      "metadata": {
        "id": "F9VY8owGwTN5"
      },
      "outputs": [],
      "execution_count": null
    }
  ]
}